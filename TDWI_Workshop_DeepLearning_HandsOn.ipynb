{
  "nbformat": 4,
  "nbformat_minor": 0,
  "metadata": {
    "colab": {
      "name": "TDWI_Workshop_DeepLearning_HandsOn.ipynb",
      "version": "0.3.2",
      "provenance": [],
      "collapsed_sections": [],
      "include_colab_link": true
    },
    "kernelspec": {
      "name": "python3",
      "display_name": "Python 3"
    }
  },
  "cells": [
    {
      "cell_type": "markdown",
      "metadata": {
        "id": "view-in-github",
        "colab_type": "text"
      },
      "source": [
        "[View in Colaboratory](https://colab.research.google.com/github/neubasi/TDWI2018_UseCaseFirstAISecond/blob/master/TDWI_Workshop_DeepLearning_HandsOn.ipynb)"
      ]
    },
    {
      "metadata": {
        "id": "lhYw7BAVicgV",
        "colab_type": "text"
      },
      "cell_type": "markdown",
      "source": [
        "# Einleitung\n",
        "Laden der notwenigen Module. Bei Problemem bitte direkt melden."
      ]
    },
    {
      "metadata": {
        "id": "iJNg0_ASVTXB",
        "colab_type": "code",
        "colab": {
          "base_uri": "https://localhost:8080/",
          "height": 136
        },
        "outputId": "419c7368-270f-4a8f-ecd7-e7a3f54e9d60"
      },
      "cell_type": "code",
      "source": [
        "# Plotting\n",
        "import matplotlib.pyplot as plt\n",
        "\n",
        "# Timing\n",
        "from time import time\n",
        "\n",
        "# Aufbereitung und Auswertung\n",
        "import numpy as np\n",
        "import pandas as pd\n",
        "\n",
        "# Laden/installieren des high-level-Frameworks keras\n",
        "!pip install keras\n",
        "\n",
        "from keras.models import Sequential\n",
        "from keras.layers import Dense, Activation\n",
        "from keras.optimizers import Adam\n",
        "from keras.losses import categorical_crossentropy"
      ],
      "execution_count": 1,
      "outputs": [
        {
          "output_type": "stream",
          "text": [
            "Requirement already satisfied: keras in /usr/local/lib/python3.6/dist-packages (2.1.6)\n",
            "Requirement already satisfied: scipy>=0.14 in /usr/local/lib/python3.6/dist-packages (from keras) (0.19.1)\n",
            "Requirement already satisfied: six>=1.9.0 in /usr/local/lib/python3.6/dist-packages (from keras) (1.11.0)\n",
            "Requirement already satisfied: pyyaml in /usr/local/lib/python3.6/dist-packages (from keras) (3.12)\n",
            "Requirement already satisfied: numpy>=1.9.1 in /usr/local/lib/python3.6/dist-packages (from keras) (1.14.5)\n",
            "Requirement already satisfied: h5py in /usr/local/lib/python3.6/dist-packages (from keras) (2.8.0)\n"
          ],
          "name": "stdout"
        },
        {
          "output_type": "stream",
          "text": [
            "Using TensorFlow backend.\n"
          ],
          "name": "stderr"
        }
      ]
    },
    {
      "metadata": {
        "id": "oXhIbyGoljYU",
        "colab_type": "text"
      },
      "cell_type": "markdown",
      "source": [
        "# Datensatz und Problemstellung\n",
        "\n",
        "Der M(odified) N(ational) I(nstitute of) S(tandards and) T(echnology) Datensatz umfast insgesamt 65.000 Bilder von handschriftlichen Ziffern (0 - 9). Jedes dieser schwarz-weißen Bilder ist 28x28 Pixel groß. Unser Ziel in diesem Workshop ist es, die tatsächliche Zahl bestmöglich vorherzusagen. Zum Vergleich: jede Ziffer kommt gleich oft vor, das heißt die Genauigkeit durch blindes Raten liegt bei 10%. "
      ]
    },
    {
      "metadata": {
        "id": "GYHcTIy5llnp",
        "colab_type": "code",
        "colab": {
          "base_uri": "https://localhost:8080/",
          "height": 17
        },
        "outputId": "0859be96-3294-47fb-c4f2-4264a2db2c59"
      },
      "cell_type": "code",
      "source": [
        "# Laden des Beispieldatensatz\n",
        "from tensorflow.examples.tutorials.mnist import input_data\n",
        "\n",
        "# Unterdrücken von unkritischen Warnungen\n",
        "import tensorflow as tf\n",
        "old_v = tf.logging.get_verbosity()\n",
        "tf.logging.set_verbosity(tf.logging.ERROR)"
      ],
      "execution_count": 3,
      "outputs": []
    },
    {
      "metadata": {
        "id": "Azu11AOsQvQQ",
        "colab_type": "code",
        "colab": {
          "base_uri": "https://localhost:8080/",
          "height": 187
        },
        "outputId": "320a3a76-934b-4b7f-dbb4-4f86a468347e"
      },
      "cell_type": "code",
      "source": [
        "# 'one_hot = True' bezieht sich auf die Darstellung der Labels. Das Label\n",
        "# \"8\" wird beispielsweise als [0, 0, 0, 0, 0, 0, 0, 1, 0, 0] dargestellt.\n",
        "# Das ermöglicht die Berechnung getrennter Wahrscheinlichkeiten pro\n",
        "# Klasse.\n",
        "\n",
        "mnist = input_data.read_data_sets(\"MNIST_data/\", one_hot = True)\n",
        "\n",
        "train_data = mnist.train.images\n",
        "train_labels = np.asarray(mnist.train.labels, dtype=np.int32)\n",
        "eval_data = mnist.test.images\n",
        "eval_labels = np.asarray(mnist.test.labels, dtype=np.int32)\n",
        "\n",
        "print(\"Pictures in the training set:   {:5d}\".format(train_data.shape[0]))\n",
        "print(\"Pictures in the evaluation set: {:5d}\".format(eval_data.shape[0]))"
      ],
      "execution_count": 4,
      "outputs": [
        {
          "output_type": "stream",
          "text": [
            "Successfully downloaded train-images-idx3-ubyte.gz 9912422 bytes.\n",
            "Extracting MNIST_data/train-images-idx3-ubyte.gz\n",
            "Successfully downloaded train-labels-idx1-ubyte.gz 28881 bytes.\n",
            "Extracting MNIST_data/train-labels-idx1-ubyte.gz\n",
            "Successfully downloaded t10k-images-idx3-ubyte.gz 1648877 bytes.\n",
            "Extracting MNIST_data/t10k-images-idx3-ubyte.gz\n",
            "Successfully downloaded t10k-labels-idx1-ubyte.gz 4542 bytes.\n",
            "Extracting MNIST_data/t10k-labels-idx1-ubyte.gz\n",
            "Pictures in the training set:   55000\n",
            "Pictures in the evaluation set: 10000\n"
          ],
          "name": "stdout"
        }
      ]
    },
    {
      "metadata": {
        "id": "Hxq_WeCGWobu",
        "colab_type": "text"
      },
      "cell_type": "markdown",
      "source": [
        "Um ein Gefühl für den Datensatz zu bekommen, haben wir je ein Bild von eins bis zehn gesucht und mit dem Befehlt unten geplottet.\n",
        "\n",
        "**Aufgabe 1:** ersetzt die Indizes in **```examples```** mit beliebigen (und beliebig vielen) Zahlen von 0 bis 55.000 bis Sie 5-10 schwer lesbare Bilder gefunden haben. Mit diesem groben Gefühl für die Schwierigkeit der Aufgabe folgende drei Schätzfragen:\n",
        "\n",
        "1. Wie präzise kann ein Mensch diese Bilder erkennen?\n",
        "2. Wie präzise kann ein Algorithmus werden?\n",
        "3. Wie präzise kann ein Algorithmus *vor der Kaffeepause* werden?\n",
        "\n",
        "Alle Schätzungen bitte als Werte zwischen 0 (alle falsch) und 1 (alle richtig) bei den entsprechenden Variablen im unteren Codeblock eintragen.\n",
        "\n"
      ]
    },
    {
      "metadata": {
        "id": "GuPKfsG6WRab",
        "colab_type": "code",
        "colab": {
          "base_uri": "https://localhost:8080/",
          "height": 233
        },
        "outputId": "7ccea054-019b-409a-f474-750d3b683356"
      },
      "cell_type": "code",
      "source": [
        "# Als Backup: [4, 13, 1, 2, 27, 3, 0,  9, 8, 7]\n",
        "examples = [5, 89, 13, 2, 129, 3, 0,  9, 8, 7]\n",
        "\n",
        "human_precision               = 0.9  # zwischen 0 und 1\n",
        "machine_precision_enough_time = 0.99    # zwischen 0 und 1\n",
        "machine_precision_pre_coffee  = 0.80  # zwischen 0 und 1\n",
        "\n",
        "# ------- Ab hier nichts ändern! ----------\n",
        "columns = 5\n",
        "for i, image in enumerate(examples):\n",
        "    plt.subplot(len(examples) / columns + 1, columns, i + 1)\n",
        "    plt.imshow(train_data[image].reshape((28, 28)))\n",
        "    plt.axis(\"off\")"
      ],
      "execution_count": 15,
      "outputs": [
        {
          "output_type": "display_data",
          "data": {
            "image/png": "[encoded data removed]",
            "text/plain": [
              "<matplotlib.figure.Figure at 0x7f5e303086d8>"
            ]
          },
          "metadata": {
            "tags": []
          }
        }
      ]
    },
    {
      "metadata": {
        "id": "sCxXDV1Xlhis",
        "colab_type": "text"
      },
      "cell_type": "markdown",
      "source": [
        "# Modellierung\n",
        "\n",
        "Für dieses Notebook beschränken wir uns auf ein sehr einfach gehaltenes neuronales Netz. Wir variieren nur zwei Parameter: **a)** die Anzahl der Schichten und **b)** die Anzahl der Neuronen pro Schicht. Unser Ziel ist herauszufinden, wie weit wir mit diesem sehr simplen Ansatz kommen können. Der folgende Codeblock automatisiert den Bau des Netzwerks und muss einmal ausgeführt, aber nicht verstanden werden."
      ]
    },
    {
      "metadata": {
        "id": "Fh1ek6ZZj80q",
        "colab_type": "code",
        "colab": {
          "base_uri": "https://localhost:8080/",
          "height": 17
        },
        "outputId": "2d0f8b95-a789-4fb0-d1b3-f8fd494b28d0"
      },
      "cell_type": "code",
      "source": [
        "def build_model(no_nodes, no_hidden_layers, input_shape):\n",
        "  \n",
        "  # Initialisierung des Netzwerks als sequentielles Model (= Schicht für\n",
        "  # Schicht) mit entsprechendem Input-Layer (jeder Pixel ein isolierter\n",
        "  # Datenpunkt).\n",
        "  \n",
        "  model = Sequential()\n",
        "  model.add(Dense(units=no_nodes, input_dim=input_shape))\n",
        "\n",
        "  # Zusätzliche Anzahl von dichten hidden layers mit konstanter Anzahl von\n",
        "  # Neuronen. Beispiel: no_nodes = 5 und no_hidden_layers = 3 erzeugt\n",
        "  # zusätzlich drei Layer mit jeweils fünf Neuronen.\n",
        "  \n",
        "  for _ in range(no_hidden_layers):\n",
        "    model.add(Dense(units=no_nodes))\n",
        "\n",
        "  # Die finale Schicht normiert die vorhergesagten Wahrscheinlichkeiten\n",
        "  # über alle zehn möglichen Kategorien auf 100%.\n",
        "  \n",
        "  model.add(Dense(units=10, activation='softmax'))\n",
        "  \n",
        "  # Die folgenden Details überschreiten den Rahmen dieses Workshops. Kurz\n",
        "  # gesagt wird hier abschließend definiert auf welche Art das Netzwerk\n",
        "  # trainiert und optimiert wird. Im Ergbnis gibt die Funktion ein\n",
        "  # Netzwerk zurück, dass bereit für das eigentliche Training ist.\n",
        "  \n",
        "  model.compile(optimizer='adam',\n",
        "                loss='categorical_crossentropy',\n",
        "                metrics=['accuracy'])\n",
        "  \n",
        "  return model"
      ],
      "execution_count": 16,
      "outputs": []
    },
    {
      "metadata": {
        "id": "u5-5Y5IaaRuR",
        "colab_type": "text"
      },
      "cell_type": "markdown",
      "source": [
        "**Aufgabe:** ergänzen bzw. verändern Sie die Liste in ```model_combinations``` so, dass insgesamt zehn verschiedene Netzwerkarchitekturen (Kombinationen aus Layern und Neuronen) berechnet werden. **Rein intuitiv: welche Kombination, glauben Sie, wird wie erfolgreich sein?**\n",
        "\n",
        "**Wichtig:** für diesen Workshop werden wir kein Netzwerk mit mehr als insgesamt 100 Neuronen rechnen, damit die Rechenzeit nicht zu groß wird."
      ]
    },
    {
      "metadata": {
        "id": "7UxRCG4zk4m-",
        "colab_type": "code",
        "colab": {
          "base_uri": "https://localhost:8080/",
          "height": 51
        },
        "outputId": "da72e4b8-03d0-4215-9c2d-8ddef0301322"
      },
      "cell_type": "code",
      "source": [
        "# Für jede gewünschte Variante von Netzwerkarchitekturen bitte hier ein Tuple\n",
        "# von zwei Werten angeben:\n",
        "#\n",
        "#         (Anzahl der hidden Layer, Anzahl der Neuronen pro Layer)\n",
        "#\n",
        "# Beim Ausführen der Zelle werden alle Kombinationen einzeln trainiert und\n",
        "# verschiedene Metriken zur Evaluierung eingesammelt.\n",
        "#\n",
        "# Wichtig: der rechnerische Aufwand für das Training wird sehr schnell sehr\n",
        "#          hoch. Für diesen Workshop ist die Trainingszeit deshalb stark\n",
        "#          reduziert.\n",
        "\n",
        "model_combinations = [(1, 1), (2, 50)  ]\n",
        "\n",
        "# ------ Ab hier nichts verändern! ------\n",
        "\n",
        "layers = []\n",
        "nodes = []\n",
        "evals = []\n",
        "trains = []\n",
        "sums = []\n",
        "\n",
        "for (l, n) in model_combinations:\n",
        "  \n",
        "  if(l * n > 100):\n",
        "    print(\"Mehr als insgesamt 100 Neuronen wird zu lange dauern.\")\n",
        "    continue\n",
        "  \n",
        "  model = build_model(no_nodes=n, no_hidden_layers=l,\n",
        "                      input_shape=train_data.shape[1])\n",
        "  model.fit(train_data, train_labels, epochs=3, verbose=0)\n",
        "  layers.append(l)\n",
        "  nodes.append(n)\n",
        "  sums.append(n * l)\n",
        "  trains.append(model.evaluate(train_data, train_labels, verbose=0)[1])\n",
        "  evals.append(model.evaluate(eval_data, eval_labels)[1])\n",
        "                     \n",
        "\n",
        "# Aufbau der Evaluationstabelle\n",
        "comparison = pd.DataFrame({\"no_layers\": layers, \"no_nodes\": nodes,\n",
        "                           \"sum_nodes\": sums, \"evaluation_test\": evals,\n",
        "                           \"evaluation_training\": trains})\n",
        "                     \n",
        "comparison[\"diff_human\"] = comparison.evaluation_test - human_precision\n",
        "comparison[\"diff_machine_pre_coffee\"] = comparison.evaluation_test - machine_precision_pre_coffee\n",
        "comparison[\"diff_machine_enough_time\"] = comparison.evaluation_test - machine_precision_enough_time\n",
        "comparison[\"is_overfitting\"] = comparison.evaluation_training > comparison.evaluation_test\n",
        "\n",
        "comparison = comparison[[\"no_layers\", \"no_nodes\", \"sum_nodes\",\n",
        "                         \"evaluation_training\", \"evaluation_test\",\n",
        "                         \"diff_human\", \"diff_machine_pre_coffee\", \"diff_machine_enough_time\",\n",
        "                         \"is_overfitting\"]]"
      ],
      "execution_count": 26,
      "outputs": [
        {
          "output_type": "stream",
          "text": [
            "10000/10000 [==============================] - 0s 43us/step\n",
            "10000/10000 [==============================] - 0s 49us/step\n"
          ],
          "name": "stdout"
        }
      ]
    },
    {
      "metadata": {
        "id": "RX-NJLpk_6lK",
        "colab_type": "text"
      },
      "cell_type": "markdown",
      "source": [
        "## Evaluation\n",
        "Nach der Berechnung aller angegebenen Modellvariationen, zeigt die untere Tabelle nun eine Zusammenfassung der verschiedenen Evaluationsmetriken:\n",
        "- ```no_layers```, ```no_nodes``` und ```sum_nodes``` sind rein deskriptiv.\n",
        "- ```evaluation_training``` ist die Genauigkeit des Netzes auf den bekannten Daten.\n",
        "- ```evaluation_test``` ist die Genauigkeit des Netzes auf unbekannten Daten.\n",
        "- ```diff_XXXX``` ist der Unterschied zu den Einschätzungen in der vorherigen Aufgabe.\n",
        "\n",
        "**Aufgabe 2:**\n",
        "- Welche Kombination aus Anzahl der Layer und Neuronen schneidet in ```evaluation_test``` am besten ab? Ist das überraschend? \n",
        "- Ist die Anzahl der Schichten oder die der Neuronen wichtiger für das bestmögliche Ergebnis?\n",
        "- Wie schlagen sich die verschiedenen Netze im Vergleich zu euren vorherigen Erwartungen? Ist der Abstand größer oder kleiner als gedacht?\n",
        "- Wie sehr würden Sie dem besten Netz in einem realen Usecase vertrauen?"
      ]
    },
    {
      "metadata": {
        "id": "QRk1AkC8Ry-f",
        "colab_type": "code",
        "colab": {
          "base_uri": "https://localhost:8080/",
          "height": 131
        },
        "outputId": "c5ed6f48-c1ca-44dd-ba9a-936ade80db96"
      },
      "cell_type": "code",
      "source": [
        "comparison.sort_values(\"evaluation_test\", ascending=False)"
      ],
      "execution_count": 27,
      "outputs": [
        {
          "output_type": "execute_result",
          "data": {
            "text/html": [
              "<div>\n",
              "<style scoped>\n",
              "    .dataframe tbody tr th:only-of-type {\n",
              "        vertical-align: middle;\n",
              "    }\n",
              "\n",
              "    .dataframe tbody tr th {\n",
              "        vertical-align: top;\n",
              "    }\n",
              "\n",
              "    .dataframe thead th {\n",
              "        text-align: right;\n",
              "    }\n",
              "</style>\n",
              "<table border=\"1\" class=\"dataframe\">\n",
              "  <thead>\n",
              "    <tr style=\"text-align: right;\">\n",
              "      <th></th>\n",
              "      <th>no_layers</th>\n",
              "      <th>no_nodes</th>\n",
              "      <th>sum_nodes</th>\n",
              "      <th>evaluation_training</th>\n",
              "      <th>evaluation_test</th>\n",
              "      <th>diff_human</th>\n",
              "      <th>diff_machine_pre_coffee</th>\n",
              "      <th>diff_machine_enough_time</th>\n",
              "      <th>is_overfitting</th>\n",
              "    </tr>\n",
              "  </thead>\n",
              "  <tbody>\n",
              "    <tr>\n",
              "      <th>1</th>\n",
              "      <td>2</td>\n",
              "      <td>50</td>\n",
              "      <td>100</td>\n",
              "      <td>0.920291</td>\n",
              "      <td>0.9204</td>\n",
              "      <td>0.0204</td>\n",
              "      <td>0.1204</td>\n",
              "      <td>-0.0696</td>\n",
              "      <td>False</td>\n",
              "    </tr>\n",
              "    <tr>\n",
              "      <th>0</th>\n",
              "      <td>1</td>\n",
              "      <td>1</td>\n",
              "      <td>1</td>\n",
              "      <td>0.388200</td>\n",
              "      <td>0.3920</td>\n",
              "      <td>-0.5080</td>\n",
              "      <td>-0.4080</td>\n",
              "      <td>-0.5980</td>\n",
              "      <td>False</td>\n",
              "    </tr>\n",
              "  </tbody>\n",
              "</table>\n",
              "</div>"
            ],
            "text/plain": [
              "   no_layers  no_nodes  sum_nodes  evaluation_training  evaluation_test  \\\n",
              "1          2        50        100             0.920291           0.9204   \n",
              "0          1         1          1             0.388200           0.3920   \n",
              "\n",
              "   diff_human  diff_machine_pre_coffee  diff_machine_enough_time  \\\n",
              "1      0.0204                   0.1204                   -0.0696   \n",
              "0     -0.5080                  -0.4080                   -0.5980   \n",
              "\n",
              "   is_overfitting  \n",
              "1           False  \n",
              "0           False  "
            ]
          },
          "metadata": {
            "tags": []
          },
          "execution_count": 27
        }
      ]
    },
    {
      "metadata": {
        "id": "c2Vb4DQE_4uR",
        "colab_type": "code",
        "colab": {}
      },
      "cell_type": "code",
      "source": [
        ""
      ],
      "execution_count": 0,
      "outputs": []
    }
  ]
}